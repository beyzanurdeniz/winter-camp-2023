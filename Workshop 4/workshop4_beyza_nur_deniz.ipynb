{
 "cells": [
  {
   "cell_type": "code",
   "execution_count": 1,
   "id": "8a76ada4",
   "metadata": {},
   "outputs": [],
   "source": [
    "import warnings\n",
    "warnings.filterwarnings('ignore')\n",
    "\n",
    "import torch\n",
    "from torch import nn\n",
    "import torch.nn.functional as F\n",
    "import torch.optim as optim\n",
    "\n",
    "from sklearn.datasets import make_moons\n",
    "from sklearn.preprocessing import StandardScaler\n",
    "from sklearn.model_selection import train_test_split\n",
    "\n",
    "import matplotlib.pyplot as plt\n",
    "from matplotlib.colors import ListedColormap\n",
    "\n",
    "import numpy as np\n",
    "\n",
    "import torchvision.datasets as datasets \n",
    "import torchvision.transforms as transforms\n",
    "import time"
   ]
  },
  {
   "cell_type": "code",
   "execution_count": 2,
   "id": "69adff80",
   "metadata": {},
   "outputs": [
    {
     "name": "stdout",
     "output_type": "stream",
     "text": [
      "Using cuda device\n"
     ]
    }
   ],
   "source": [
    "device = \"cuda\" if torch.cuda.is_available() else \"cpu\"\n",
    "print(\"Using {} device\".format(device))"
   ]
  },
  {
   "cell_type": "markdown",
   "id": "288c9bfd",
   "metadata": {},
   "source": [
    "# MNIST HAND WRITTEN NUMBER"
   ]
  },
  {
   "cell_type": "markdown",
   "id": "3a1f3898",
   "metadata": {},
   "source": [
    "Define various neural network structures with tanh, sigmoid, linear, relu, define number of neurons in each layer and forward the input data to one-hot-coding for numbers 0-9. **You are NOT expected to use Convolution Layers!** <br>\n",
    "*Hint: Input files are 28x28 images.*\n",
    "<br>\n",
    "*Hint: Use .view method in the forward function to make a column vector from 28x28 image*\n"
   ]
  },
  {
   "cell_type": "markdown",
   "id": "79319f0d",
   "metadata": {},
   "source": [
    "In this assignment, you are expected to train your own Neural Network model. You are free to refer to resources online and bogaziciai github repository while constructing your neural network.  "
   ]
  },
  {
   "cell_type": "code",
   "execution_count": 3,
   "id": "6a93ca5f",
   "metadata": {
    "scrolled": false
   },
   "outputs": [],
   "source": [
    "## Normalization and create a tensor for a training/test set \n",
    "\n",
    "transform = transforms.Compose([transforms.ToTensor(), transforms.Normalize((0.5,), (0.5,))])\n",
    "\n",
    "\n",
    "mnist_trainset = datasets.MNIST(root='./data', train=True, download=True, transform=transform)\n",
    "mnist_testset = datasets.MNIST(root='./data', train=False, download=True, transform=transform)"
   ]
  },
  {
   "cell_type": "code",
   "execution_count": null,
   "id": "d636c765",
   "metadata": {},
   "outputs": [],
   "source": []
  },
  {
   "cell_type": "markdown",
   "id": "a8ad7237",
   "metadata": {},
   "source": [
    "### Step 1\n",
    "\n",
    "Defining the structure of the neural network."
   ]
  },
  {
   "cell_type": "code",
   "execution_count": 4,
   "id": "d7c8f956",
   "metadata": {},
   "outputs": [],
   "source": [
    "class Net(nn.Module):\n",
    "    def __init__(self):\n",
    "        super(Net,self).__init__()\n",
    "        self.linear1 = nn.Linear(28*28, 256)\n",
    "        self.linear2 = nn.Linear(256, 64)\n",
    "        self.linear3 = nn.Linear(64, 10)\n",
    "\n",
    "    def forward(self, img): #convert + flatten\n",
    "        # view() reshapes the tensor without copying memory, similar to numpy's reshape().\n",
    "        out = img.view(img.size(0), -1)\n",
    "        \n",
    "        # forward propagation\n",
    "        out = self.linear1(out)\n",
    "        out = F.relu(out)\n",
    "        out = self.linear2(out)\n",
    "        out = F.relu(out)\n",
    "        out = self.linear3(out)\n",
    "        out = F.relu(out)\n",
    "        return out"
   ]
  },
  {
   "cell_type": "markdown",
   "id": "6c8441ba",
   "metadata": {},
   "source": [
    "### Step 2\n",
    "\n",
    "Deciding on the optimizer, number of batches, loss function and the number of epochs"
   ]
  },
  {
   "cell_type": "code",
   "execution_count": 5,
   "id": "5e148da8",
   "metadata": {},
   "outputs": [],
   "source": [
    "model = Net().to(device)\n",
    "\n",
    "loss = nn.CrossEntropyLoss()\n",
    "optimizer = optim.SGD(model.parameters(), lr = 0.01, momentum = 0.9)\n",
    "batch_size = 50\n",
    "epochs = 10\n",
    "\n",
    "train_loader = torch.utils.data.DataLoader(mnist_trainset, batch_size=batch_size, shuffle=True)\n",
    "test_loader = torch.utils.data.DataLoader(mnist_testset, batch_size=batch_size, shuffle=True)"
   ]
  },
  {
   "cell_type": "markdown",
   "id": "7b24bb0f",
   "metadata": {},
   "source": [
    "### Step 3\n",
    "Start the training."
   ]
  },
  {
   "cell_type": "code",
   "execution_count": 6,
   "id": "2e30671f",
   "metadata": {},
   "outputs": [
    {
     "name": "stdout",
     "output_type": "stream",
     "text": [
      "[1,  1000] loss: 6.00721\n",
      "epoch 0 done\n",
      "[2,  1000] loss: 1.70529\n",
      "epoch 1 done\n",
      "[3,  1000] loss: 1.20369\n",
      "epoch 2 done\n",
      "[4,  1000] loss: 0.93418\n",
      "epoch 3 done\n",
      "[5,  1000] loss: 0.78972\n",
      "epoch 4 done\n",
      "[6,  1000] loss: 0.67052\n",
      "epoch 5 done\n",
      "[7,  1000] loss: 0.54482\n",
      "epoch 6 done\n",
      "[8,  1000] loss: 0.49093\n",
      "epoch 7 done\n",
      "[9,  1000] loss: 0.42796\n",
      "epoch 8 done\n",
      "[10,  1000] loss: 0.37160\n",
      "epoch 9 done\n",
      "Finished Training\n"
     ]
    }
   ],
   "source": [
    "for epoch in range(epochs):\n",
    "    ### YOUR CODE\n",
    "    running_loss = 0.0\n",
    "    for i, data in(enumerate(train_loader)):\n",
    "        inputs, labels = data\n",
    "        inputs, labels = inputs.to(device), labels.to(device)\n",
    "        \n",
    "        optimizer.zero_grad()\n",
    "        output = model(inputs.view(-1, 28*28))\n",
    "        l = loss(output, labels)\n",
    "        l.backward()\n",
    "        optimizer.step()\n",
    "        \n",
    "        running_loss += l.item()\n",
    "        if i % 1000 == 999:    # print every 100 mini-batches\n",
    "            print('[%d, %5d] loss: %.5f' %\n",
    "            (epoch + 1, i + 1, running_loss / 100))\n",
    "            running_loss = 0.0\n",
    "    print(f\"epoch {epoch} done\")\n",
    "            \n",
    "print('Finished Training')"
   ]
  },
  {
   "cell_type": "markdown",
   "id": "27c0e1e7",
   "metadata": {},
   "source": [
    "### Step 4\n",
    "Test your model's accuracy"
   ]
  },
  {
   "cell_type": "code",
   "execution_count": 7,
   "id": "da2341bc",
   "metadata": {},
   "outputs": [
    {
     "name": "stdout",
     "output_type": "stream",
     "text": [
      "accuracy: 0.977\n"
     ]
    }
   ],
   "source": [
    "correct =0\n",
    "total=0\n",
    "\n",
    "\n",
    "with torch.no_grad():\n",
    "    for data in test_loader:\n",
    "        inputs, labels = data\n",
    "        output = model(inputs.to(device).view(-1, 784))\n",
    "        for idx, i in enumerate(output):\n",
    "            if torch.argmax(i) == labels[idx]:\n",
    "                correct +=1\n",
    "            total +=1\n",
    "print(f'accuracy: {round(correct/total, 3)}')"
   ]
  },
  {
   "cell_type": "markdown",
   "id": "1a78a39a",
   "metadata": {},
   "source": [
    "### Step 5\n",
    "\n",
    "Get some training or test data samples to visualize the predictions."
   ]
  },
  {
   "cell_type": "code",
   "execution_count": 14,
   "id": "d6a973b3",
   "metadata": {},
   "outputs": [
    {
     "name": "stdout",
     "output_type": "stream",
     "text": [
      "Batch_Size=  50\n",
      "True Label = 8 \n",
      "True Label = 4 \n",
      "True Label = 1 \n",
      "True Label = 4 \n",
      "True Label = 3 \n",
      "True Label = 5 \n",
      "True Label = 9 \n",
      "True Label = 3 \n",
      "True Label = 5 \n",
      "True Label = 1 \n"
     ]
    },
    {
     "data": {
      "image/png": "[encoded data removed]",
      "text/plain": [
       "<Figure size 432x288 with 1 Axes>"
      ]
     },
     "metadata": {
      "needs_background": "light"
     },
     "output_type": "display_data"
    },
    {
     "data": {
      "image/png": "[encoded data removed]",
      "text/plain": [
       "<Figure size 432x288 with 1 Axes>"
      ]
     },
     "metadata": {
      "needs_background": "light"
     },
     "output_type": "display_data"
    },
    {
     "data": {
      "image/png": "[encoded data removed]",
      "text/plain": [
       "<Figure size 432x288 with 1 Axes>"
      ]
     },
     "metadata": {
      "needs_background": "light"
     },
     "output_type": "display_data"
    },
    {
     "data": {
      "image/png": "[encoded data removed]",
      "text/plain": [
       "<Figure size 432x288 with 1 Axes>"
      ]
     },
     "metadata": {
      "needs_background": "light"
     },
     "output_type": "display_data"
    },
    {
     "data": {
      "image/png": "[encoded data removed]",
      "text/plain": [
       "<Figure size 432x288 with 1 Axes>"
      ]
     },
     "metadata": {
      "needs_background": "light"
     },
     "output_type": "display_data"
    },
    {
     "data": {
      "image/png": "[encoded data removed]",
      "text/plain": [
       "<Figure size 432x288 with 1 Axes>"
      ]
     },
     "metadata": {
      "needs_background": "light"
     },
     "output_type": "display_data"
    },
    {
     "data": {
      "image/png": "[encoded data removed]",
      "text/plain": [
       "<Figure size 432x288 with 1 Axes>"
      ]
     },
     "metadata": {
      "needs_background": "light"
     },
     "output_type": "display_data"
    },
    {
     "data": {
      "image/png": "[encoded data removed]",
      "text/plain": [
       "<Figure size 432x288 with 1 Axes>"
      ]
     },
     "metadata": {
      "needs_background": "light"
     },
     "output_type": "display_data"
    },
    {
     "data": {
      "image/png": "[encoded data removed]",
      "text/plain": [
       "<Figure size 432x288 with 1 Axes>"
      ]
     },
     "metadata": {
      "needs_background": "light"
     },
     "output_type": "display_data"
    },
    {
     "data": {
      "image/png": "[encoded data removed]",
      "text/plain": [
       "<Figure size 432x288 with 1 Axes>"
      ]
     },
     "metadata": {
      "needs_background": "light"
     },
     "output_type": "display_data"
    }
   ],
   "source": [
    "def TakesamplesfromNthBatch(loader,N,model):\n",
    "    \n",
    "    inputsout=[]\n",
    "    labelsout=[]\n",
    "    \n",
    "    for i,data in enumerate(train_loader):\n",
    "        inputs, labels = data\n",
    "        inputsout=inputs.squeeze().numpy()\n",
    "        labelsout=labels.numpy()    \n",
    "           \n",
    "        if i==N:\n",
    "            prediction = model(inputs.to(device).view(-1, 784))\n",
    "            predictionout = np.argmax(prediction.detach().cpu().numpy(),axis=1) \n",
    "            break\n",
    "\n",
    "    return inputsout, labelsout, predictionout\n",
    "\n",
    "trial_input,trial_labels,trial_prediction = TakesamplesfromNthBatch(train_loader,1,model)\n",
    "print('Batch_Size= ', batch_size)\n",
    "\n",
    "numberIntheBatch=0\n",
    "Nofexamples=10\n",
    "for i in range(Nofexamples):    \n",
    "    \n",
    "    plt.figure()\n",
    "    imgplot = plt.imshow(trial_input[numberIntheBatch])\n",
    "    plt.title(' NN prediction = %i'  %trial_prediction[numberIntheBatch])\n",
    "    print('True Label = %i ' %trial_labels[numberIntheBatch])\n",
    "    numberIntheBatch=numberIntheBatch+1"
   ]
  },
  {
   "cell_type": "code",
   "execution_count": null,
   "id": "9fd4b4c1",
   "metadata": {},
   "outputs": [],
   "source": []
  }
 ],
 "metadata": {
  "kernelspec": {
   "display_name": "Python 3",
   "language": "python",
   "name": "python3"
  },
  "language_info": {
   "codemirror_mode": {
    "name": "ipython",
    "version": 3
   },
   "file_extension": ".py",
   "mimetype": "text/x-python",
   "name": "python",
   "nbconvert_exporter": "python",
   "pygments_lexer": "ipython3",
   "version": "3.8.8"
  }
 },
 "nbformat": 4,
 "nbformat_minor": 5
}

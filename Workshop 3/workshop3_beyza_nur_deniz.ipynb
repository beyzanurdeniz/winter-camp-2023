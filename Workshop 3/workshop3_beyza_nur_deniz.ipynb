{
 "cells": [
  {
   "cell_type": "markdown",
   "id": "b19653de",
   "metadata": {},
   "source": [
    "<center><h1>bogaziciAI Winter Camp</h1></center>\n",
    "<center><h2>Workshop 2</h2></center>"
   ]
  },
  {
   "cell_type": "markdown",
   "id": "6d925fdf",
   "metadata": {},
   "source": [
    "<center><h3>Grading Table</h3></center>"
   ]
  },
  {
   "cell_type": "markdown",
   "id": "d77c71e6",
   "metadata": {},
   "source": [
    "<table>\n",
    "  <col>\n",
    "  <colgroup span=\"3\"></colgroup>\n",
    "  <colgroup span=\"2\"></colgroup>\n",
    "  <tr>\n",
    "    <td rowspan=\"1\"></td>\n",
    "    <th colspan=\"1\" scope=\"colgroup\">Part 1</th>>\n",
    "    <th colspan=\"1\" scope=\"colgroup\">Part 2</th>\n",
    "    <th colspan=\"1\" scope=\"colgroup\">Total</th>\n",
    "  </tr>\n",
    "  <tr>\n",
    "    <th scope=\"row\">Points</th>\n",
    "    <td>50</td>\n",
    "    <td>50</td>\n",
    "    <td>100</td>\n",
    "  </tr>\n",
    "</table>"
   ]
  },
  {
   "cell_type": "code",
   "execution_count": 70,
   "id": "7ec8318e",
   "metadata": {},
   "outputs": [],
   "source": [
    "import warnings\n",
    "warnings.filterwarnings('ignore')\n",
    "\n",
    "import numpy as np\n",
    "import matplotlib.pyplot as plt\n",
    "import seaborn as sns\n",
    "from sklearn import linear_model, preprocessing, model_selection, neighbors, cluster\n",
    "from sklearn.preprocessing import StandardScaler\n",
    "from matplotlib.pyplot import cm\n",
    "from matplotlib.colors import BoundaryNorm\n",
    "from matplotlib.ticker import MaxNLocator\n",
    "from sklearn.model_selection import train_test_split\n",
    "import pandas as pd"
   ]
  },
  {
   "cell_type": "markdown",
   "id": "73b1472c",
   "metadata": {},
   "source": [
    "# Part 1 - K Nearest Neighbors"
   ]
  },
  {
   "cell_type": "markdown",
   "id": "899cae5d",
   "metadata": {},
   "source": [
    "We will use the famous iris dataset in this part."
   ]
  },
  {
   "cell_type": "code",
   "execution_count": 71,
   "id": "fac0b064",
   "metadata": {},
   "outputs": [
    {
     "data": {
      "image/png": "[encoded data removed]",
      "text/plain": [
       "<Figure size 432x288 with 1 Axes>"
      ]
     },
     "metadata": {
      "needs_background": "light"
     },
     "output_type": "display_data"
    }
   ],
   "source": [
    "df = pd.read_csv('iris.data',names=['Sepal Length', 'Sepal Width', 'Petal Length', 'Petal Width', 'Class'])\n",
    "sns.scatterplot('Petal Length', 'Petal Width', data=df, hue='Class')\n",
    "plt.show()"
   ]
  },
  {
   "cell_type": "code",
   "execution_count": 72,
   "id": "9aa531ca",
   "metadata": {},
   "outputs": [
    {
     "data": {
      "text/html": [
       "<div>\n",
       "<style scoped>\n",
       "    .dataframe tbody tr th:only-of-type {\n",
       "        vertical-align: middle;\n",
       "    }\n",
       "\n",
       "    .dataframe tbody tr th {\n",
       "        vertical-align: top;\n",
       "    }\n",
       "\n",
       "    .dataframe thead th {\n",
       "        text-align: right;\n",
       "    }\n",
       "</style>\n",
       "<table border=\"1\" class=\"dataframe\">\n",
       "  <thead>\n",
       "    <tr style=\"text-align: right;\">\n",
       "      <th></th>\n",
       "      <th>Sepal Length</th>\n",
       "      <th>Sepal Width</th>\n",
       "      <th>Petal Length</th>\n",
       "      <th>Petal Width</th>\n",
       "      <th>Class</th>\n",
       "    </tr>\n",
       "  </thead>\n",
       "  <tbody>\n",
       "    <tr>\n",
       "      <th>0</th>\n",
       "      <td>5.1</td>\n",
       "      <td>3.5</td>\n",
       "      <td>1.4</td>\n",
       "      <td>0.2</td>\n",
       "      <td>Iris-setosa</td>\n",
       "    </tr>\n",
       "    <tr>\n",
       "      <th>1</th>\n",
       "      <td>4.9</td>\n",
       "      <td>3.0</td>\n",
       "      <td>1.4</td>\n",
       "      <td>0.2</td>\n",
       "      <td>Iris-setosa</td>\n",
       "    </tr>\n",
       "    <tr>\n",
       "      <th>2</th>\n",
       "      <td>4.7</td>\n",
       "      <td>3.2</td>\n",
       "      <td>1.3</td>\n",
       "      <td>0.2</td>\n",
       "      <td>Iris-setosa</td>\n",
       "    </tr>\n",
       "    <tr>\n",
       "      <th>3</th>\n",
       "      <td>4.6</td>\n",
       "      <td>3.1</td>\n",
       "      <td>1.5</td>\n",
       "      <td>0.2</td>\n",
       "      <td>Iris-setosa</td>\n",
       "    </tr>\n",
       "    <tr>\n",
       "      <th>4</th>\n",
       "      <td>5.0</td>\n",
       "      <td>3.6</td>\n",
       "      <td>1.4</td>\n",
       "      <td>0.2</td>\n",
       "      <td>Iris-setosa</td>\n",
       "    </tr>\n",
       "  </tbody>\n",
       "</table>\n",
       "</div>"
      ],
      "text/plain": [
       "   Sepal Length  Sepal Width  Petal Length  Petal Width        Class\n",
       "0           5.1          3.5           1.4          0.2  Iris-setosa\n",
       "1           4.9          3.0           1.4          0.2  Iris-setosa\n",
       "2           4.7          3.2           1.3          0.2  Iris-setosa\n",
       "3           4.6          3.1           1.5          0.2  Iris-setosa\n",
       "4           5.0          3.6           1.4          0.2  Iris-setosa"
      ]
     },
     "execution_count": 72,
     "metadata": {},
     "output_type": "execute_result"
    }
   ],
   "source": [
    "df.head()"
   ]
  },
  {
   "cell_type": "markdown",
   "id": "80d078fc",
   "metadata": {},
   "source": [
    "### Step 1\n",
    "\n",
    "Split the dataset into train and test sets."
   ]
  },
  {
   "cell_type": "code",
   "execution_count": 73,
   "id": "e32b08ba",
   "metadata": {},
   "outputs": [],
   "source": [
    "x = df.drop(\"Class\", axis = 1).values\n",
    "y = df[\"Class\"].values\n",
    "x_train, x_test, y_train, y_test = train_test_split(x, y, random_state = 1, test_size = 0.25)"
   ]
  },
  {
   "cell_type": "markdown",
   "id": "2fd33fae",
   "metadata": {},
   "source": [
    "### Step 2\n",
    "\n",
    "Standardize the dataset"
   ]
  },
  {
   "cell_type": "code",
   "execution_count": 74,
   "id": "6cfc4c57",
   "metadata": {},
   "outputs": [],
   "source": [
    "scaler = StandardScaler()\n",
    "x_train_scaled = scaler.fit_transform(x_train)\n",
    "x_test_scaled = scaler.transform(x_test)"
   ]
  },
  {
   "cell_type": "markdown",
   "id": "d428b10a",
   "metadata": {},
   "source": [
    "### Step 3\n",
    "\n",
    "Write your custom KNN class"
   ]
  },
  {
   "cell_type": "code",
   "execution_count": 75,
   "id": "6bc7be5d",
   "metadata": {},
   "outputs": [],
   "source": [
    "def euclideanDistance(x1, x2):\n",
    "        return np.sum((x1-x2)**2, axis=1)\n",
    "\n",
    "def most_common(listy):\n",
    "    return max(set(listy), key = listy.count)\n",
    "\n",
    "class CustomKNN:\n",
    "    def __init__(self,k, dist_metric=euclideanDistance):\n",
    "        self.k = k\n",
    "        self.dist_metric = dist_metric\n",
    "        \n",
    "    def fit(self, x_scaled_train, y_train):\n",
    "        self.x_scaled_train = x_scaled_train\n",
    "        self.y_train = y_train\n",
    "    \n",
    "    def predict(self,x_scaled_test):\n",
    "        n = []\n",
    "        for x in x_scaled_test:\n",
    "            distances = self.dist_metric(x, self.x_scaled_train)\n",
    "            s = [y for _, y in sorted(zip(distances, self.y_train))]\n",
    "            n.append(s[:self.k])\n",
    "        return list(map(most_common, n))    \n",
    "        \n",
    "    def score(self, x_scaled_test, y_test):\n",
    "        y_pred = self.predict(x_scaled_test)\n",
    "        score = sum(y_pred == y_test) / len(y_test)\n",
    "        return score"
   ]
  },
  {
   "cell_type": "markdown",
   "id": "9a2b3047",
   "metadata": {},
   "source": [
    "### Step 4\n",
    "\n",
    "Fit the training data to model"
   ]
  },
  {
   "cell_type": "code",
   "execution_count": 76,
   "id": "3557f911",
   "metadata": {},
   "outputs": [],
   "source": [
    "knn = CustomKNN(5)\n",
    "knn.fit(x_train_scaled, y_train)"
   ]
  },
  {
   "cell_type": "markdown",
   "id": "80c69267",
   "metadata": {},
   "source": [
    "### Step 5\n",
    "\n",
    "Evaluate the accuracy"
   ]
  },
  {
   "cell_type": "code",
   "execution_count": 77,
   "id": "1da53f11",
   "metadata": {},
   "outputs": [
    {
     "data": {
      "text/plain": [
       "0.9736842105263158"
      ]
     },
     "execution_count": 77,
     "metadata": {},
     "output_type": "execute_result"
    }
   ],
   "source": [
    "knn.score(x_test_scaled, y_test)"
   ]
  },
  {
   "cell_type": "markdown",
   "id": "a0a125c0",
   "metadata": {},
   "source": [
    "### Step 6\n",
    "\n",
    "Use sklearn's KNN classifier and compare the results"
   ]
  },
  {
   "cell_type": "code",
   "execution_count": 78,
   "id": "d9865461",
   "metadata": {},
   "outputs": [],
   "source": [
    "from sklearn.neighbors import KNeighborsClassifier"
   ]
  },
  {
   "cell_type": "code",
   "execution_count": 79,
   "id": "716b4793",
   "metadata": {},
   "outputs": [
    {
     "data": {
      "text/plain": [
       "0.9736842105263158"
      ]
     },
     "execution_count": 79,
     "metadata": {},
     "output_type": "execute_result"
    }
   ],
   "source": [
    "neigh = KNeighborsClassifier(n_neighbors = 5)\n",
    "neigh.fit(x_train_scaled, y_train)\n",
    "neigh.score(x_test_scaled, y_test)"
   ]
  },
  {
   "cell_type": "markdown",
   "id": "b9856d05",
   "metadata": {},
   "source": [
    "### Step 7\n",
    "\n",
    "We have gathered 5 unknown samples below. Predict which sample belongs to which category. <br>\n",
    "*Hint: You can use classifier.predict(x) method.* <br>\n",
    "**Extra:** Indicate the probability of prediction.\n",
    "\n",
    "\n",
    "| Sepal Length | Sepal Width | Petal Length | Petal Width | Class | \n",
    "| :-: | :-: | :-: | :-: | :-: |\n",
    "| 4.5 | 3.0 | 1.5 | 0.5 | Unknown |\n",
    "| 7.0 | 3.0 | 5.0 | 1.5 | Unknown |\n",
    "| 6.0 | 2.5 | 5.0 | 2.0 | Unknown |\n",
    "| 7.0 | 3.0 | 4.5 | 1.0 | Unknown |\n",
    "| 6.0 | 2.0 | 5.0 | 1.5 | Unknown |"
   ]
  },
  {
   "cell_type": "code",
   "execution_count": 80,
   "id": "82c44cb6",
   "metadata": {},
   "outputs": [
    {
     "name": "stdout",
     "output_type": "stream",
     "text": [
      "['Iris-setosa']\n",
      "['Iris-versicolor']\n",
      "['Iris-virginica']\n",
      "['Iris-versicolor']\n",
      "['Iris-versicolor']\n",
      "\n",
      "\n",
      "['Iris-setosa']\n",
      "['Iris-versicolor']\n",
      "['Iris-virginica']\n",
      "['Iris-versicolor']\n",
      "['Iris-versicolor']\n"
     ]
    }
   ],
   "source": [
    "t1 = scaler.transform([[4.5, 3.0, 1.5, 0.5]])\n",
    "t2 = scaler.transform([[7.0, 3.0, 5.0, 1.5]])\n",
    "t3 = scaler.transform([[6.0, 2.5, 5.0, 2.0]])\n",
    "t4 = scaler.transform([[7.0, 3.0, 4.5, 1.0]])\n",
    "t5 = scaler.transform([[6.0, 2.0, 5.0, 1.5]])\n",
    "\n",
    "print(knn.predict(t1))\n",
    "print(knn.predict(t2))\n",
    "print(knn.predict(t3))\n",
    "print(knn.predict(t4))\n",
    "print(knn.predict(t5))\n",
    "print(\"\\n\")\n",
    "print(neigh.predict(t1))\n",
    "print(neigh.predict(t2))\n",
    "print(neigh.predict(t3))\n",
    "print(neigh.predict(t4))\n",
    "print(neigh.predict(t5))"
   ]
  },
  {
   "cell_type": "markdown",
   "id": "6e31f19e",
   "metadata": {},
   "source": [
    "# Part 2 - K-Means Clustering"
   ]
  },
  {
   "cell_type": "markdown",
   "id": "73deac3d",
   "metadata": {},
   "source": [
    "## Dataset\n",
    "<br>\n",
    "We use dataset from https://www.kaggle.com/kandij/mall-customers throughout this notebook."
   ]
  },
  {
   "cell_type": "code",
   "execution_count": 81,
   "id": "51a980d4",
   "metadata": {},
   "outputs": [
    {
     "data": {
      "text/html": [
       "<div>\n",
       "<style scoped>\n",
       "    .dataframe tbody tr th:only-of-type {\n",
       "        vertical-align: middle;\n",
       "    }\n",
       "\n",
       "    .dataframe tbody tr th {\n",
       "        vertical-align: top;\n",
       "    }\n",
       "\n",
       "    .dataframe thead th {\n",
       "        text-align: right;\n",
       "    }\n",
       "</style>\n",
       "<table border=\"1\" class=\"dataframe\">\n",
       "  <thead>\n",
       "    <tr style=\"text-align: right;\">\n",
       "      <th></th>\n",
       "      <th>Gender</th>\n",
       "      <th>Age</th>\n",
       "      <th>Annual Income (k$)</th>\n",
       "      <th>Spending Score (1-100)</th>\n",
       "    </tr>\n",
       "  </thead>\n",
       "  <tbody>\n",
       "    <tr>\n",
       "      <th>0</th>\n",
       "      <td>0</td>\n",
       "      <td>19</td>\n",
       "      <td>15</td>\n",
       "      <td>39</td>\n",
       "    </tr>\n",
       "    <tr>\n",
       "      <th>1</th>\n",
       "      <td>0</td>\n",
       "      <td>21</td>\n",
       "      <td>15</td>\n",
       "      <td>81</td>\n",
       "    </tr>\n",
       "    <tr>\n",
       "      <th>2</th>\n",
       "      <td>1</td>\n",
       "      <td>20</td>\n",
       "      <td>16</td>\n",
       "      <td>6</td>\n",
       "    </tr>\n",
       "    <tr>\n",
       "      <th>3</th>\n",
       "      <td>1</td>\n",
       "      <td>23</td>\n",
       "      <td>16</td>\n",
       "      <td>77</td>\n",
       "    </tr>\n",
       "    <tr>\n",
       "      <th>4</th>\n",
       "      <td>1</td>\n",
       "      <td>31</td>\n",
       "      <td>17</td>\n",
       "      <td>40</td>\n",
       "    </tr>\n",
       "  </tbody>\n",
       "</table>\n",
       "</div>"
      ],
      "text/plain": [
       "   Gender  Age  Annual Income (k$)  Spending Score (1-100)\n",
       "0       0   19                  15                      39\n",
       "1       0   21                  15                      81\n",
       "2       1   20                  16                       6\n",
       "3       1   23                  16                      77\n",
       "4       1   31                  17                      40"
      ]
     },
     "execution_count": 81,
     "metadata": {},
     "output_type": "execute_result"
    }
   ],
   "source": [
    "df = pd.read_csv(\"segmented_customers-2.csv\")\n",
    "df[\"Gender\"] = df[\"Gender\"].replace({\"Male\": 0, \"Female\": 1})\n",
    "df.head()"
   ]
  },
  {
   "cell_type": "markdown",
   "id": "4449b1e6",
   "metadata": {},
   "source": [
    "### Step 1\n",
    "<br>\n",
    "For this part, we will only use Age and Spending Score columns.\n",
    "<br>\n",
    "Plot the dataframe so that \"Age\" column is on the x axis and \"Spending Score (1-100)\" is on the y axis."
   ]
  },
  {
   "cell_type": "code",
   "execution_count": 134,
   "id": "a8847594",
   "metadata": {},
   "outputs": [
    {
     "data": {
      "text/plain": [
       "(200,)"
      ]
     },
     "execution_count": 134,
     "metadata": {},
     "output_type": "execute_result"
    },
    {
     "data": {
      "image/png": "[encoded data removed]",
      "text/plain": [
       "<Figure size 432x288 with 1 Axes>"
      ]
     },
     "metadata": {
      "needs_background": "light"
     },
     "output_type": "display_data"
    }
   ],
   "source": [
    "x = df[\"Age\"]\n",
    "y = df[\"Spending Score (1-100)\"]\n",
    "plt.scatter(x, y)\n",
    "x.shape"
   ]
  },
  {
   "cell_type": "markdown",
   "id": "ebc0eb14",
   "metadata": {},
   "source": [
    "### Step 2\n",
    "<br>\n",
    "Implement your own simple Kmeans algorithm without using pre-implemented libraries for KMeans. You can \n",
    "refer to the structure below while structuring your code. You do not have to use the same structure. \n",
    "Any type of initialization method for your centroids is accepted. You will solely be graded on whether or not your algorithm performs as expected, we will not take the accuracy into account as long as the algorithm gives meaningful results."
   ]
  },
  {
   "cell_type": "code",
   "execution_count": 159,
   "id": "63ca6f92",
   "metadata": {},
   "outputs": [],
   "source": [
    "def kmeans(X, k, max_iterations=100):\n",
    "    centroids = X[np.random.choice(X.shape[0], k, replace=False), :]\n",
    "    for i in range(max_iterations):\n",
    "        distances = np.array([np.linalg.norm(X - centroid, axis=1) for centroid in centroids])\n",
    "        assignments = np.argmin(distances, axis=0)\n",
    "        for j in range(k):\n",
    "            points = X[assignments == j, :]\n",
    "            if points.shape[0] > 0:\n",
    "                centroids[j, :] = np.mean(points, axis=0)\n",
    "    return centroids, assignments\n",
    "\n",
    "def inertia(X,k):\n",
    "    centers,assign = kmeans(X,k)\n",
    "    tt = 0\n",
    "    for i in range(len(centers)):\n",
    "        t = 0  \n",
    "        for j in range(len(assign)):\n",
    "            if assign[j] == i:\n",
    "                t += ((X[j][0] - centers[i][0]) ** 2 + (x[j][1] - centers[i][1]) ** 2) ** 0.5\n",
    "        tt += t\n",
    "    return tt"
   ]
  },
  {
   "cell_type": "markdown",
   "id": "f752266e",
   "metadata": {},
   "source": [
    "### Step 3\n",
    "<br>\n",
    "After you complete your algorithm, test it for number of clusters between 1-15. Use elbow method to decide on the\n",
    "best number of clusters. For the best number of clusters you chose, visualize the clusters and centroids. Comment on your results, what improvements can be made on the algorithm?"
   ]
  },
  {
   "cell_type": "code",
   "execution_count": 160,
   "id": "38797a42",
   "metadata": {},
   "outputs": [],
   "source": [
    "scaler = StandardScaler()\n",
    "x = np.c_[scaler.fit_transform(df[\"Age\"].values.reshape(-1,1)),scaler.fit_transform(df[\"Spending Score (1-100)\"].values.reshape(-1,1))]"
   ]
  },
  {
   "cell_type": "code",
   "execution_count": 178,
   "id": "8e362dbd",
   "metadata": {
    "scrolled": false
   },
   "outputs": [
    {
     "data": {
      "image/png": "[encoded data removed]",
      "text/plain": [
       "<Figure size 864x576 with 1 Axes>"
      ]
     },
     "metadata": {
      "needs_background": "light"
     },
     "output_type": "display_data"
    }
   ],
   "source": [
    "k = 4\n",
    "centroids, assignments = kmeans(x, k)\n",
    "fig,ax = plt.subplots(figsize = (12,8))\n",
    "color = cm.rainbow(np.linspace(0,1,k))\n",
    "for i in range(len(assignments)):\n",
    "    ax.scatter(x[i][0], x[i][1], color = color[assignments[i]])\n",
    "for i in centroids:\n",
    "    ax.scatter(i[0], i[1], color = \"black\", linewidth = 0.5)"
   ]
  },
  {
   "cell_type": "code",
   "execution_count": 186,
   "id": "cc6658ae",
   "metadata": {},
   "outputs": [
    {
     "data": {
      "text/plain": [
       "[<matplotlib.lines.Line2D at 0x1f994fe4700>]"
      ]
     },
     "execution_count": 186,
     "metadata": {},
     "output_type": "execute_result"
    },
    {
     "data": {
      "image/png": "[encoded data removed]",
      "text/plain": [
       "<Figure size 432x288 with 1 Axes>"
      ]
     },
     "metadata": {
      "needs_background": "light"
     },
     "output_type": "display_data"
    }
   ],
   "source": [
    "a = []\n",
    "in_list = []\n",
    "for i in range(1,16):\n",
    "    a.append(i)\n",
    "    in_list.append(inertia(x, i))\n",
    "    \n",
    "plt.plot(a, in_list)"
   ]
  },
  {
   "cell_type": "markdown",
   "id": "a068c4b5",
   "metadata": {},
   "source": [
    "### Step 4\n",
    "<br>\n",
    "Use scikit-learn's KMeans class to compare your results with the optimized KMeans algrorithm. Compare it for number of clusters between 1-15 and plot the inertias (hint: you can use scikit-learn's \"inertia_\" parameter.). Comment on your results.  "
   ]
  },
  {
   "cell_type": "code",
   "execution_count": 179,
   "id": "781eaca8",
   "metadata": {},
   "outputs": [
    {
     "data": {
      "text/plain": [
       "<matplotlib.collections.PathCollection at 0x1f99553aa90>"
      ]
     },
     "execution_count": 179,
     "metadata": {},
     "output_type": "execute_result"
    },
    {
     "data": {
      "image/png": "[encoded data removed]",
      "text/plain": [
       "<Figure size 864x576 with 1 Axes>"
      ]
     },
     "metadata": {
      "needs_background": "light"
     },
     "output_type": "display_data"
    }
   ],
   "source": [
    "from sklearn.cluster import KMeans\n",
    "km = KMeans(n_clusters = 4)\n",
    "y_kmeans = km.fit_predict(x)\n",
    "fig, ax = plt.subplots(figsize = (12,8))\n",
    "color = cm.rainbow(np.linspace(0,1,4))\n",
    "for i in range(len(y_kmeans)):\n",
    "    ax.scatter(x[i][0], x[i][1], color = color[y_kmeans[i]])\n",
    "    \n",
    "plt.scatter(km.cluster_centers_[:,0], km.cluster_centers_[:, -1], s=100, marker = \"X\", c = \"black\")"
   ]
  },
  {
   "cell_type": "code",
   "execution_count": 189,
   "id": "57792aae",
   "metadata": {},
   "outputs": [
    {
     "data": {
      "text/plain": [
       "[<matplotlib.lines.Line2D at 0x1f99503d9d0>]"
      ]
     },
     "execution_count": 189,
     "metadata": {},
     "output_type": "execute_result"
    },
    {
     "data": {
      "image/png": "[encoded data removed]",
      "text/plain": [
       "<Figure size 432x288 with 1 Axes>"
      ]
     },
     "metadata": {
      "needs_background": "light"
     },
     "output_type": "display_data"
    }
   ],
   "source": [
    "ine_list = []\n",
    "b = []\n",
    "for i in range(1,16):\n",
    "    kme = KMeans(n_clusters = i).fit(x)\n",
    "    ine_list.append(kme.inertia_)\n",
    "    b.append(i)\n",
    "    \n",
    "plt.plot(a, ine_list)"
   ]
  },
  {
   "cell_type": "code",
   "execution_count": null,
   "id": "c222f9e4",
   "metadata": {},
   "outputs": [],
   "source": []
  },
  {
   "cell_type": "code",
   "execution_count": null,
   "id": "c76a203b",
   "metadata": {},
   "outputs": [],
   "source": []
  }
 ],
 "metadata": {
  "kernelspec": {
   "display_name": "Python 3",
   "language": "python",
   "name": "python3"
  },
  "language_info": {
   "codemirror_mode": {
    "name": "ipython",
    "version": 3
   },
   "file_extension": ".py",
   "mimetype": "text/x-python",
   "name": "python",
   "nbconvert_exporter": "python",
   "pygments_lexer": "ipython3",
   "version": "3.8.8"
  }
 },
 "nbformat": 4,
 "nbformat_minor": 5
}
